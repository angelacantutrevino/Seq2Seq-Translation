{
  "nbformat": 4,
  "nbformat_minor": 0,
  "metadata": {
    "colab": {
      "name": "Seq2Seq_Translation.ipynb",
      "provenance": [],
      "collapsed_sections": [],
      "authorship_tag": "ABX9TyP0JGXRerMGQCgkgGfQIow4",
      "include_colab_link": true
    },
    "kernelspec": {
      "name": "python3",
      "display_name": "Python 3"
    },
    "language_info": {
      "name": "python"
    }
  },
  "cells": [
    {
      "cell_type": "markdown",
      "metadata": {
        "id": "view-in-github",
        "colab_type": "text"
      },
      "source": [
        "<a href=\"https://colab.research.google.com/github/angelacantutrevino/Seq2Seq-Translation/blob/main/Seq2Seq_Translation.ipynb\" target=\"_parent\"><img src=\"https://colab.research.google.com/assets/colab-badge.svg\" alt=\"Open In Colab\"/></a>"
      ]
    },
    {
      "cell_type": "markdown",
      "source": [
        "# **Transforming Natural Language into SQL Queries**"
      ],
      "metadata": {
        "id": "s7Lgvc4FKTpg"
      }
    },
    {
      "cell_type": "markdown",
      "source": [
        "### **Libraries**"
      ],
      "metadata": {
        "id": "0sIf6HYTGHEd"
      }
    },
    {
      "cell_type": "code",
      "source": [
        "# Loading Data and Pre-Processing Libraries\n",
        "import pandas as pd\n",
        "import numpy as np\n",
        "import matplotlib.pyplot as plt\n",
        "from sklearn.model_selection import train_test_split\n",
        "# Tensor Flow\n",
        "import tensorflow as tf\n",
        "from tensorflow.keras.preprocessing.text import Tokenizer\n",
        "from tensorflow.keras.preprocessing.sequence import pad_sequences\n",
        "from tensorflow import keras\n",
        "# Keras\n",
        "from keras import layers, models\n",
        "from keras.layers import GRU, Input, Dense, TimeDistributed, RepeatVector\n",
        "from keras.models import Model, Sequential\n",
        "from keras.losses import sparse_categorical_crossentropy\n",
        "from keras.utils.vis_utils import plot_model"
      ],
      "metadata": {
        "id": "krkAK_pFGKYx"
      },
      "execution_count": 1,
      "outputs": []
    },
    {
      "cell_type": "markdown",
      "source": [
        "### **Importing Data**"
      ],
      "metadata": {
        "id": "phr4r2QnjI3W"
      }
    },
    {
      "cell_type": "code",
      "source": [
        "import pandas as pd\n",
        "\n",
        "df = pd.read_json('train_spider.json')"
      ],
      "metadata": {
        "id": "d1hF4UJ8KKBj"
      },
      "execution_count": 2,
      "outputs": []
    },
    {
      "cell_type": "code",
      "source": [
        "df.head()"
      ],
      "metadata": {
        "colab": {
          "base_uri": "https://localhost:8080/",
          "height": 510
        },
        "id": "yTGDT_nFLX19",
        "outputId": "630d5aa1-33d2-4267-e748-61011ca9ff3f"
      },
      "execution_count": 3,
      "outputs": [
        {
          "output_type": "execute_result",
          "data": {
            "text/plain": [
              "                   db_id                                              query  \\\n",
              "0  department_management         SELECT count(*) FROM head WHERE age  >  56   \n",
              "1  department_management  SELECT name ,  born_state ,  age FROM head ORD...   \n",
              "2  department_management  SELECT creation ,  name ,  budget_in_billions ...   \n",
              "3  department_management  SELECT max(budget_in_billions) ,  min(budget_i...   \n",
              "4  department_management  SELECT avg(num_employees) FROM department WHER...   \n",
              "\n",
              "                                          query_toks  \\\n",
              "0  [SELECT, count, (, *, ), FROM, head, WHERE, ag...   \n",
              "1  [SELECT, name, ,, born_state, ,, age, FROM, he...   \n",
              "2  [SELECT, creation, ,, name, ,, budget_in_billi...   \n",
              "3  [SELECT, max, (, budget_in_billions, ), ,, min...   \n",
              "4  [SELECT, avg, (, num_employees, ), FROM, depar...   \n",
              "\n",
              "                                 query_toks_no_value  \\\n",
              "0  [select, count, (, *, ), from, head, where, ag...   \n",
              "1  [select, name, ,, born_state, ,, age, from, he...   \n",
              "2  [select, creation, ,, name, ,, budget_in_billi...   \n",
              "3  [select, max, (, budget_in_billions, ), ,, min...   \n",
              "4  [select, avg, (, num_employees, ), from, depar...   \n",
              "\n",
              "                                            question  \\\n",
              "0  How many heads of the departments are older th...   \n",
              "1  List the name, born state and age of the heads...   \n",
              "2  List the creation year, name and budget of eac...   \n",
              "3  What are the maximum and minimum budget of the...   \n",
              "4  What is the average number of employees of the...   \n",
              "\n",
              "                                       question_toks  \\\n",
              "0  [How, many, heads, of, the, departments, are, ...   \n",
              "1  [List, the, name, ,, born, state, and, age, of...   \n",
              "2  [List, the, creation, year, ,, name, and, budg...   \n",
              "3  [What, are, the, maximum, and, minimum, budget...   \n",
              "4  [What, is, the, average, number, of, employees...   \n",
              "\n",
              "                                                 sql  \n",
              "0  {'from': {'table_units': [['table_unit', 1]], ...  \n",
              "1  {'from': {'table_units': [['table_unit', 1]], ...  \n",
              "2  {'from': {'table_units': [['table_unit', 0]], ...  \n",
              "3  {'from': {'table_units': [['table_unit', 0]], ...  \n",
              "4  {'from': {'table_units': [['table_unit', 0]], ...  "
            ],
            "text/html": [
              "\n",
              "  <div id=\"df-757ee26b-cef6-4d68-af56-3993cc907162\">\n",
              "    <div class=\"colab-df-container\">\n",
              "      <div>\n",
              "<style scoped>\n",
              "    .dataframe tbody tr th:only-of-type {\n",
              "        vertical-align: middle;\n",
              "    }\n",
              "\n",
              "    .dataframe tbody tr th {\n",
              "        vertical-align: top;\n",
              "    }\n",
              "\n",
              "    .dataframe thead th {\n",
              "        text-align: right;\n",
              "    }\n",
              "</style>\n",
              "<table border=\"1\" class=\"dataframe\">\n",
              "  <thead>\n",
              "    <tr style=\"text-align: right;\">\n",
              "      <th></th>\n",
              "      <th>db_id</th>\n",
              "      <th>query</th>\n",
              "      <th>query_toks</th>\n",
              "      <th>query_toks_no_value</th>\n",
              "      <th>question</th>\n",
              "      <th>question_toks</th>\n",
              "      <th>sql</th>\n",
              "    </tr>\n",
              "  </thead>\n",
              "  <tbody>\n",
              "    <tr>\n",
              "      <th>0</th>\n",
              "      <td>department_management</td>\n",
              "      <td>SELECT count(*) FROM head WHERE age  &gt;  56</td>\n",
              "      <td>[SELECT, count, (, *, ), FROM, head, WHERE, ag...</td>\n",
              "      <td>[select, count, (, *, ), from, head, where, ag...</td>\n",
              "      <td>How many heads of the departments are older th...</td>\n",
              "      <td>[How, many, heads, of, the, departments, are, ...</td>\n",
              "      <td>{'from': {'table_units': [['table_unit', 1]], ...</td>\n",
              "    </tr>\n",
              "    <tr>\n",
              "      <th>1</th>\n",
              "      <td>department_management</td>\n",
              "      <td>SELECT name ,  born_state ,  age FROM head ORD...</td>\n",
              "      <td>[SELECT, name, ,, born_state, ,, age, FROM, he...</td>\n",
              "      <td>[select, name, ,, born_state, ,, age, from, he...</td>\n",
              "      <td>List the name, born state and age of the heads...</td>\n",
              "      <td>[List, the, name, ,, born, state, and, age, of...</td>\n",
              "      <td>{'from': {'table_units': [['table_unit', 1]], ...</td>\n",
              "    </tr>\n",
              "    <tr>\n",
              "      <th>2</th>\n",
              "      <td>department_management</td>\n",
              "      <td>SELECT creation ,  name ,  budget_in_billions ...</td>\n",
              "      <td>[SELECT, creation, ,, name, ,, budget_in_billi...</td>\n",
              "      <td>[select, creation, ,, name, ,, budget_in_billi...</td>\n",
              "      <td>List the creation year, name and budget of eac...</td>\n",
              "      <td>[List, the, creation, year, ,, name, and, budg...</td>\n",
              "      <td>{'from': {'table_units': [['table_unit', 0]], ...</td>\n",
              "    </tr>\n",
              "    <tr>\n",
              "      <th>3</th>\n",
              "      <td>department_management</td>\n",
              "      <td>SELECT max(budget_in_billions) ,  min(budget_i...</td>\n",
              "      <td>[SELECT, max, (, budget_in_billions, ), ,, min...</td>\n",
              "      <td>[select, max, (, budget_in_billions, ), ,, min...</td>\n",
              "      <td>What are the maximum and minimum budget of the...</td>\n",
              "      <td>[What, are, the, maximum, and, minimum, budget...</td>\n",
              "      <td>{'from': {'table_units': [['table_unit', 0]], ...</td>\n",
              "    </tr>\n",
              "    <tr>\n",
              "      <th>4</th>\n",
              "      <td>department_management</td>\n",
              "      <td>SELECT avg(num_employees) FROM department WHER...</td>\n",
              "      <td>[SELECT, avg, (, num_employees, ), FROM, depar...</td>\n",
              "      <td>[select, avg, (, num_employees, ), from, depar...</td>\n",
              "      <td>What is the average number of employees of the...</td>\n",
              "      <td>[What, is, the, average, number, of, employees...</td>\n",
              "      <td>{'from': {'table_units': [['table_unit', 0]], ...</td>\n",
              "    </tr>\n",
              "  </tbody>\n",
              "</table>\n",
              "</div>\n",
              "      <button class=\"colab-df-convert\" onclick=\"convertToInteractive('df-757ee26b-cef6-4d68-af56-3993cc907162')\"\n",
              "              title=\"Convert this dataframe to an interactive table.\"\n",
              "              style=\"display:none;\">\n",
              "        \n",
              "  <svg xmlns=\"http://www.w3.org/2000/svg\" height=\"24px\"viewBox=\"0 0 24 24\"\n",
              "       width=\"24px\">\n",
              "    <path d=\"M0 0h24v24H0V0z\" fill=\"none\"/>\n",
              "    <path d=\"M18.56 5.44l.94 2.06.94-2.06 2.06-.94-2.06-.94-.94-2.06-.94 2.06-2.06.94zm-11 1L8.5 8.5l.94-2.06 2.06-.94-2.06-.94L8.5 2.5l-.94 2.06-2.06.94zm10 10l.94 2.06.94-2.06 2.06-.94-2.06-.94-.94-2.06-.94 2.06-2.06.94z\"/><path d=\"M17.41 7.96l-1.37-1.37c-.4-.4-.92-.59-1.43-.59-.52 0-1.04.2-1.43.59L10.3 9.45l-7.72 7.72c-.78.78-.78 2.05 0 2.83L4 21.41c.39.39.9.59 1.41.59.51 0 1.02-.2 1.41-.59l7.78-7.78 2.81-2.81c.8-.78.8-2.07 0-2.86zM5.41 20L4 18.59l7.72-7.72 1.47 1.35L5.41 20z\"/>\n",
              "  </svg>\n",
              "      </button>\n",
              "      \n",
              "  <style>\n",
              "    .colab-df-container {\n",
              "      display:flex;\n",
              "      flex-wrap:wrap;\n",
              "      gap: 12px;\n",
              "    }\n",
              "\n",
              "    .colab-df-convert {\n",
              "      background-color: #E8F0FE;\n",
              "      border: none;\n",
              "      border-radius: 50%;\n",
              "      cursor: pointer;\n",
              "      display: none;\n",
              "      fill: #1967D2;\n",
              "      height: 32px;\n",
              "      padding: 0 0 0 0;\n",
              "      width: 32px;\n",
              "    }\n",
              "\n",
              "    .colab-df-convert:hover {\n",
              "      background-color: #E2EBFA;\n",
              "      box-shadow: 0px 1px 2px rgba(60, 64, 67, 0.3), 0px 1px 3px 1px rgba(60, 64, 67, 0.15);\n",
              "      fill: #174EA6;\n",
              "    }\n",
              "\n",
              "    [theme=dark] .colab-df-convert {\n",
              "      background-color: #3B4455;\n",
              "      fill: #D2E3FC;\n",
              "    }\n",
              "\n",
              "    [theme=dark] .colab-df-convert:hover {\n",
              "      background-color: #434B5C;\n",
              "      box-shadow: 0px 1px 3px 1px rgba(0, 0, 0, 0.15);\n",
              "      filter: drop-shadow(0px 1px 2px rgba(0, 0, 0, 0.3));\n",
              "      fill: #FFFFFF;\n",
              "    }\n",
              "  </style>\n",
              "\n",
              "      <script>\n",
              "        const buttonEl =\n",
              "          document.querySelector('#df-757ee26b-cef6-4d68-af56-3993cc907162 button.colab-df-convert');\n",
              "        buttonEl.style.display =\n",
              "          google.colab.kernel.accessAllowed ? 'block' : 'none';\n",
              "\n",
              "        async function convertToInteractive(key) {\n",
              "          const element = document.querySelector('#df-757ee26b-cef6-4d68-af56-3993cc907162');\n",
              "          const dataTable =\n",
              "            await google.colab.kernel.invokeFunction('convertToInteractive',\n",
              "                                                     [key], {});\n",
              "          if (!dataTable) return;\n",
              "\n",
              "          const docLinkHtml = 'Like what you see? Visit the ' +\n",
              "            '<a target=\"_blank\" href=https://colab.research.google.com/notebooks/data_table.ipynb>data table notebook</a>'\n",
              "            + ' to learn more about interactive tables.';\n",
              "          element.innerHTML = '';\n",
              "          dataTable['output_type'] = 'display_data';\n",
              "          await google.colab.output.renderOutput(dataTable, element);\n",
              "          const docLink = document.createElement('div');\n",
              "          docLink.innerHTML = docLinkHtml;\n",
              "          element.appendChild(docLink);\n",
              "        }\n",
              "      </script>\n",
              "    </div>\n",
              "  </div>\n",
              "  "
            ]
          },
          "metadata": {},
          "execution_count": 3
        }
      ]
    },
    {
      "cell_type": "code",
      "source": [
        "df.dtypes"
      ],
      "metadata": {
        "colab": {
          "base_uri": "https://localhost:8080/"
        },
        "id": "y8IOkPIFYOmO",
        "outputId": "34004dd8-07d3-4853-a8fe-5338f9642db3"
      },
      "execution_count": 4,
      "outputs": [
        {
          "output_type": "execute_result",
          "data": {
            "text/plain": [
              "db_id                  object\n",
              "query                  object\n",
              "query_toks             object\n",
              "query_toks_no_value    object\n",
              "question               object\n",
              "question_toks          object\n",
              "sql                    object\n",
              "dtype: object"
            ]
          },
          "metadata": {},
          "execution_count": 4
        }
      ]
    },
    {
      "cell_type": "code",
      "source": [
        "df.columns"
      ],
      "metadata": {
        "colab": {
          "base_uri": "https://localhost:8080/"
        },
        "id": "VBfV-dQFlmR1",
        "outputId": "8426c3e9-163c-4049-bd80-515913a76271"
      },
      "execution_count": 5,
      "outputs": [
        {
          "output_type": "execute_result",
          "data": {
            "text/plain": [
              "Index(['db_id', 'query', 'query_toks', 'query_toks_no_value', 'question',\n",
              "       'question_toks', 'sql'],\n",
              "      dtype='object')"
            ]
          },
          "metadata": {},
          "execution_count": 5
        }
      ]
    },
    {
      "cell_type": "code",
      "source": [
        "df.isnull().values.any()"
      ],
      "metadata": {
        "colab": {
          "base_uri": "https://localhost:8080/"
        },
        "id": "8w44HAHBkJaV",
        "outputId": "8cde4725-1f8f-431f-fc6b-47042d9200a0"
      },
      "execution_count": 6,
      "outputs": [
        {
          "output_type": "execute_result",
          "data": {
            "text/plain": [
              "False"
            ]
          },
          "metadata": {},
          "execution_count": 6
        }
      ]
    },
    {
      "cell_type": "code",
      "source": [
        "df.shape"
      ],
      "metadata": {
        "colab": {
          "base_uri": "https://localhost:8080/"
        },
        "id": "LBCc5eSvvRuz",
        "outputId": "634918ab-a3a3-4e23-89a1-693b9c881488"
      },
      "execution_count": 7,
      "outputs": [
        {
          "output_type": "execute_result",
          "data": {
            "text/plain": [
              "(7000, 7)"
            ]
          },
          "metadata": {},
          "execution_count": 7
        }
      ]
    },
    {
      "cell_type": "markdown",
      "source": [
        "### **Preparing Data**"
      ],
      "metadata": {
        "id": "kyWIJkAEjZsS"
      }
    },
    {
      "cell_type": "markdown",
      "source": [
        "Since, we have a very large database we choose to examine only the first 1000 instances for a simpler and more efficient analysis."
      ],
      "metadata": {
        "id": "jzVSCFtbgrHa"
      }
    },
    {
      "cell_type": "code",
      "source": [
        "df_new = df.iloc[:1000,:]"
      ],
      "metadata": {
        "id": "n5RLMvn7YoNH"
      },
      "execution_count": 8,
      "outputs": []
    },
    {
      "cell_type": "code",
      "source": [
        "df_new.head"
      ],
      "metadata": {
        "colab": {
          "base_uri": "https://localhost:8080/"
        },
        "id": "A3QAS15vgMxd",
        "outputId": "87e9e43f-5cf6-49bc-be63-383bdac66886"
      },
      "execution_count": 9,
      "outputs": [
        {
          "output_type": "execute_result",
          "data": {
            "text/plain": [
              "<bound method NDFrame.head of                      db_id                                              query  \\\n",
              "0    department_management         SELECT count(*) FROM head WHERE age  >  56   \n",
              "1    department_management  SELECT name ,  born_state ,  age FROM head ORD...   \n",
              "2    department_management  SELECT creation ,  name ,  budget_in_billions ...   \n",
              "3    department_management  SELECT max(budget_in_billions) ,  min(budget_i...   \n",
              "4    department_management  SELECT avg(num_employees) FROM department WHER...   \n",
              "..                     ...                                                ...   \n",
              "995  university_basketball  SELECT avg(enrollment) FROM university WHERE f...   \n",
              "996  university_basketball  SELECT avg(enrollment) FROM university WHERE f...   \n",
              "997  university_basketball  SELECT enrollment ,  primary_conference FROM u...   \n",
              "998  university_basketball  SELECT enrollment ,  primary_conference FROM u...   \n",
              "999  university_basketball  SELECT sum(enrollment) ,  min(enrollment) FROM...   \n",
              "\n",
              "                                            query_toks  \\\n",
              "0    [SELECT, count, (, *, ), FROM, head, WHERE, ag...   \n",
              "1    [SELECT, name, ,, born_state, ,, age, FROM, he...   \n",
              "2    [SELECT, creation, ,, name, ,, budget_in_billi...   \n",
              "3    [SELECT, max, (, budget_in_billions, ), ,, min...   \n",
              "4    [SELECT, avg, (, num_employees, ), FROM, depar...   \n",
              "..                                                 ...   \n",
              "995  [SELECT, avg, (, enrollment, ), FROM, universi...   \n",
              "996  [SELECT, avg, (, enrollment, ), FROM, universi...   \n",
              "997  [SELECT, enrollment, ,, primary_conference, FR...   \n",
              "998  [SELECT, enrollment, ,, primary_conference, FR...   \n",
              "999  [SELECT, sum, (, enrollment, ), ,, min, (, enr...   \n",
              "\n",
              "                                   query_toks_no_value  \\\n",
              "0    [select, count, (, *, ), from, head, where, ag...   \n",
              "1    [select, name, ,, born_state, ,, age, from, he...   \n",
              "2    [select, creation, ,, name, ,, budget_in_billi...   \n",
              "3    [select, max, (, budget_in_billions, ), ,, min...   \n",
              "4    [select, avg, (, num_employees, ), from, depar...   \n",
              "..                                                 ...   \n",
              "995  [select, avg, (, enrollment, ), from, universi...   \n",
              "996  [select, avg, (, enrollment, ), from, universi...   \n",
              "997  [select, enrollment, ,, primary_conference, fr...   \n",
              "998  [select, enrollment, ,, primary_conference, fr...   \n",
              "999  [select, sum, (, enrollment, ), ,, min, (, enr...   \n",
              "\n",
              "                                              question  \\\n",
              "0    How many heads of the departments are older th...   \n",
              "1    List the name, born state and age of the heads...   \n",
              "2    List the creation year, name and budget of eac...   \n",
              "3    What are the maximum and minimum budget of the...   \n",
              "4    What is the average number of employees of the...   \n",
              "..                                                 ...   \n",
              "995  What are the average enrollment size of the un...   \n",
              "996  Return the average enrollment of universities ...   \n",
              "997  Show the enrollment and primary_conference of ...   \n",
              "998  What are the enrollment and primary conference...   \n",
              "999  What is the total and minimum enrollment of al...   \n",
              "\n",
              "                                         question_toks  \\\n",
              "0    [How, many, heads, of, the, departments, are, ...   \n",
              "1    [List, the, name, ,, born, state, and, age, of...   \n",
              "2    [List, the, creation, year, ,, name, and, budg...   \n",
              "3    [What, are, the, maximum, and, minimum, budget...   \n",
              "4    [What, is, the, average, number, of, employees...   \n",
              "..                                                 ...   \n",
              "995  [What, are, the, average, enrollment, size, of...   \n",
              "996  [Return, the, average, enrollment, of, univers...   \n",
              "997  [Show, the, enrollment, and, primary_conferenc...   \n",
              "998  [What, are, the, enrollment, and, primary, con...   \n",
              "999  [What, is, the, total, and, minimum, enrollmen...   \n",
              "\n",
              "                                                   sql  \n",
              "0    {'from': {'table_units': [['table_unit', 1]], ...  \n",
              "1    {'from': {'table_units': [['table_unit', 1]], ...  \n",
              "2    {'from': {'table_units': [['table_unit', 0]], ...  \n",
              "3    {'from': {'table_units': [['table_unit', 0]], ...  \n",
              "4    {'from': {'table_units': [['table_unit', 0]], ...  \n",
              "..                                                 ...  \n",
              "995  {'from': {'table_units': [['table_unit', 1]], ...  \n",
              "996  {'from': {'table_units': [['table_unit', 1]], ...  \n",
              "997  {'from': {'table_units': [['table_unit', 1]], ...  \n",
              "998  {'from': {'table_units': [['table_unit', 1]], ...  \n",
              "999  {'from': {'table_units': [['table_unit', 1]], ...  \n",
              "\n",
              "[1000 rows x 7 columns]>"
            ]
          },
          "metadata": {},
          "execution_count": 9
        }
      ]
    },
    {
      "cell_type": "code",
      "source": [
        "df_new.groupby(['db_id']).count().plot(fontsize = 12, color ='lightblue', figsize = (16,6))"
      ],
      "metadata": {
        "colab": {
          "base_uri": "https://localhost:8080/",
          "height": 410
        },
        "id": "QTaBKo5b_gDV",
        "outputId": "69013e56-242a-4e65-9b27-7c531bd62eaf"
      },
      "execution_count": 10,
      "outputs": [
        {
          "output_type": "execute_result",
          "data": {
            "text/plain": [
              "<matplotlib.axes._subplots.AxesSubplot at 0x7f3754a33150>"
            ]
          },
          "metadata": {},
          "execution_count": 10
        },
        {
          "output_type": "display_data",
          "data": {
            "text/plain": [
              "<Figure size 1152x432 with 1 Axes>"
            ],
            "image/png": "[encoded data removed]"
          },
          "metadata": {
            "needs_background": "light"
          }
        }
      ]
    },
    {
      "cell_type": "code",
      "source": [
        "input_data = df_new['question']\n",
        "target_data = df_new['query'] "
      ],
      "metadata": {
        "id": "YJ_vWb-FMmQu"
      },
      "execution_count": 11,
      "outputs": []
    },
    {
      "cell_type": "markdown",
      "source": [
        "### **Pre-Processing**"
      ],
      "metadata": {
        "id": "0Qybe6TTcZrq"
      }
    },
    {
      "cell_type": "code",
      "source": [
        "# Tokenization\n",
        "def tokenization(input_data):\n",
        "  x_token = Tokenizer()\n",
        "  x_token.fit_on_texts(input_data)\n",
        "  return x_token.texts_to_sequences(input_data), x_token\n",
        "\n",
        "x, x_token = tokenization(input_data)\n",
        "y, y_token = tokenization(target_data)"
      ],
      "metadata": {
        "id": "I4BGXtX9Vk97"
      },
      "execution_count": 12,
      "outputs": []
    },
    {
      "cell_type": "code",
      "source": [
        "# Padding\n",
        "def padding(input_data, length=None):\n",
        "  if length is None:\n",
        "    length = max([len(sentence) for sentence in input_data])\n",
        "  return pad_sequences(input_data, maxlen=length, padding='post', truncating='post')\n",
        "\n",
        "x = padding(x)\n",
        "y = padding(y)"
      ],
      "metadata": {
        "id": "giN91wcegWLx"
      },
      "execution_count": 13,
      "outputs": []
    },
    {
      "cell_type": "code",
      "source": [
        " # Reshape label because the keras's sparse_categorical_crossentropy function used later requires it to be in 3D\n",
        " y = y.reshape(*y.shape, 1)"
      ],
      "metadata": {
        "id": "UdRmauVu67fS"
      },
      "execution_count": 14,
      "outputs": []
    },
    {
      "cell_type": "code",
      "source": [
        "# Find maximum sentence lengths for both questions and queries and its size to later use in model. \n",
        "\n",
        "x_max_sentence_length = x.shape[1]\n",
        "y_max_sentence_length = y.shape[1]\n",
        "\n",
        "x_vocabulary_size = len(x_token.word_index)\n",
        "y_vocabulary_size = len(y_token.word_index)\n",
        "\n",
        "print(x_max_sentence_length)\n",
        "print(y_max_sentence_length)\n",
        "print(x_vocabulary_size)\n",
        "print(y_vocabulary_size)"
      ],
      "metadata": {
        "colab": {
          "base_uri": "https://localhost:8080/"
        },
        "id": "sYk4dKjMjL73",
        "outputId": "842a34e7-fe30-45a8-b1db-542689fbe835"
      },
      "execution_count": 15,
      "outputs": [
        {
          "output_type": "stream",
          "name": "stdout",
          "text": [
            "26\n",
            "81\n",
            "914\n",
            "541\n"
          ]
        }
      ]
    },
    {
      "cell_type": "code",
      "source": [
        "# Split Data\n",
        "x_train, x_test, y_train, y_test = train_test_split(x, y, test_size=0.3, random_state=1) # 70% train, 30% test"
      ],
      "metadata": {
        "id": "MpsCCEIZcocP"
      },
      "execution_count": 16,
      "outputs": []
    },
    {
      "cell_type": "code",
      "source": [
        "# Reshape once again to be able to use in network. \n",
        "input_shape = padding(x_train, y_max_sentence_length)\n",
        "input_shape = input_shape.reshape((-1, y_train.shape[-2], 1))"
      ],
      "metadata": {
        "id": "LUFWCcmZGItR"
      },
      "execution_count": 17,
      "outputs": []
    },
    {
      "cell_type": "markdown",
      "source": [
        "### **Encoder-Decoder Model**"
      ],
      "metadata": {
        "id": "oyYWlKuPj5-z"
      }
    },
    {
      "cell_type": "code",
      "source": [
        "def encoder_decoder(x_shape, y_max_sentence_length, x_vocabulary_size, y_vocabulary_size):\n",
        "  \n",
        "  model = Sequential()\n",
        "  \n",
        "  # Encoder\n",
        "  encoder_input = Input(shape=x_shape[1:])\n",
        "  encoder_gru = GRU(y_max_sentence_length)(encoder_input)\n",
        "  encoder_output = Dense(128, activation='relu')(encoder_gru) \n",
        " \n",
        "  # Decoder\n",
        "  decoder_input = RepeatVector(y_max_sentence_length)(encoder_output)\n",
        "  decoder_gru = GRU(128, return_sequences=True)(decoder_input)\n",
        "  layer = TimeDistributed(Dense(x_vocabulary_size, activation='softmax'))\n",
        "  decoder_output = layer(decoder_gru)\n",
        " \n",
        "  # Model \n",
        "  model = Model(inputs=encoder_input, outputs=decoder_output)\n",
        "  model.compile(loss=sparse_categorical_crossentropy, optimizer='adam', metrics=['accuracy'])\n",
        "  \n",
        "  return model"
      ],
      "metadata": {
        "id": "4axzPySR_cGQ"
      },
      "execution_count": 18,
      "outputs": []
    },
    {
      "cell_type": "markdown",
      "source": [
        "### **Results**"
      ],
      "metadata": {
        "id": "0fxnpVRiBzpS"
      }
    },
    {
      "cell_type": "code",
      "source": [
        "encoder_decoder = encoder_decoder(input_shape.shape, y_max_sentence_length, x_vocabulary_size, y_vocabulary_size)\n",
        "encoder_decoder.summary()\n",
        "\n",
        "encoder_decoder_history = encoder_decoder.fit(input_shape, y_train, batch_size=25, epochs=10, validation_split=0.2)\n",
        "print(\"Average training accuracy: \", np.average(encoder_decoder_history.history['accuracy']))"
      ],
      "metadata": {
        "colab": {
          "base_uri": "https://localhost:8080/"
        },
        "id": "9VtwjGiSB3rE",
        "outputId": "a35d16eb-63fa-4aba-99e9-24ae0a5b174a"
      },
      "execution_count": 19,
      "outputs": [
        {
          "output_type": "stream",
          "name": "stdout",
          "text": [
            "Model: \"model\"\n",
            "_________________________________________________________________\n",
            " Layer (type)                Output Shape              Param #   \n",
            "=================================================================\n",
            " input_1 (InputLayer)        [(None, 81, 1)]           0         \n",
            "                                                                 \n",
            " gru (GRU)                   (None, 81)                20412     \n",
            "                                                                 \n",
            " dense (Dense)               (None, 128)               10496     \n",
            "                                                                 \n",
            " repeat_vector (RepeatVector  (None, 81, 128)          0         \n",
            " )                                                               \n",
            "                                                                 \n",
            " gru_1 (GRU)                 (None, 81, 128)           99072     \n",
            "                                                                 \n",
            " time_distributed (TimeDistr  (None, 81, 914)          117906    \n",
            " ibuted)                                                         \n",
            "                                                                 \n",
            "=================================================================\n",
            "Total params: 247,886\n",
            "Trainable params: 247,886\n",
            "Non-trainable params: 0\n",
            "_________________________________________________________________\n",
            "Epoch 1/10\n",
            "23/23 [==============================] - 17s 347ms/step - loss: 4.9936 - accuracy: 0.7896 - val_loss: 1.5179 - val_accuracy: 0.7907\n",
            "Epoch 2/10\n",
            "23/23 [==============================] - 5s 216ms/step - loss: 1.4073 - accuracy: 0.7896 - val_loss: 1.2845 - val_accuracy: 0.7907\n",
            "Epoch 3/10\n",
            "23/23 [==============================] - 5s 218ms/step - loss: 1.2469 - accuracy: 0.7921 - val_loss: 1.2361 - val_accuracy: 0.8030\n",
            "Epoch 4/10\n",
            "23/23 [==============================] - 5s 217ms/step - loss: 1.2005 - accuracy: 0.8020 - val_loss: 1.2140 - val_accuracy: 0.8030\n",
            "Epoch 5/10\n",
            "23/23 [==============================] - 5s 214ms/step - loss: 1.1799 - accuracy: 0.8020 - val_loss: 1.1957 - val_accuracy: 0.8030\n",
            "Epoch 6/10\n",
            "23/23 [==============================] - 5s 217ms/step - loss: 1.1653 - accuracy: 0.8029 - val_loss: 1.1875 - val_accuracy: 0.8030\n",
            "Epoch 7/10\n",
            "23/23 [==============================] - 5s 216ms/step - loss: 1.1503 - accuracy: 0.8050 - val_loss: 1.1892 - val_accuracy: 0.8110\n",
            "Epoch 8/10\n",
            "23/23 [==============================] - 5s 215ms/step - loss: 1.1450 - accuracy: 0.8073 - val_loss: 1.1727 - val_accuracy: 0.8110\n",
            "Epoch 9/10\n",
            "23/23 [==============================] - 5s 216ms/step - loss: 1.1380 - accuracy: 0.8090 - val_loss: 1.1731 - val_accuracy: 0.8110\n",
            "Epoch 10/10\n",
            "23/23 [==============================] - 5s 213ms/step - loss: 1.1388 - accuracy: 0.8094 - val_loss: 1.1765 - val_accuracy: 0.8110\n",
            "Average training accuracy:  0.8009016752243042\n"
          ]
        }
      ]
    },
    {
      "cell_type": "code",
      "source": [
        "translation = {value: key for key, value in y_token.word_index.items()}\n",
        "\n",
        "question = 'how many heads of the departments are older than 56'\n",
        "question = [x_token.word_index[word] for word in question.split()]\n",
        "question = pad_sequences([question], maxlen=x_train.shape[-1], padding='post')\n",
        "queries = np.array([question[0], x_train[0]])\n",
        "predictions = encoder_decoder.predict(queries, len(queries))"
      ],
      "metadata": {
        "id": "ZwdbkC-xS9eV"
      },
      "execution_count": null,
      "outputs": []
    },
    {
      "cell_type": "code",
      "source": [
        "for i in range(10):\n",
        "  print('Questions {}:  {}'.format(i + 1, input_data[i]))\n",
        "  print('SQL query {}:  {}'.format(i + 1, target_data[i]))"
      ],
      "metadata": {
        "colab": {
          "base_uri": "https://localhost:8080/"
        },
        "id": "Bxgu1NsOOx88",
        "outputId": "3eb15d3f-ee07-4b6e-fdff-46cdc3b60dc9"
      },
      "execution_count": 20,
      "outputs": [
        {
          "output_type": "stream",
          "name": "stdout",
          "text": [
            "Questions 1:  How many heads of the departments are older than 56 ?\n",
            "SQL query 1:  SELECT count(*) FROM head WHERE age  >  56\n",
            "Questions 2:  List the name, born state and age of the heads of departments ordered by age.\n",
            "SQL query 2:  SELECT name ,  born_state ,  age FROM head ORDER BY age\n",
            "Questions 3:  List the creation year, name and budget of each department.\n",
            "SQL query 3:  SELECT creation ,  name ,  budget_in_billions FROM department\n",
            "Questions 4:  What are the maximum and minimum budget of the departments?\n",
            "SQL query 4:  SELECT max(budget_in_billions) ,  min(budget_in_billions) FROM department\n",
            "Questions 5:  What is the average number of employees of the departments whose rank is between 10 and 15?\n",
            "SQL query 5:  SELECT avg(num_employees) FROM department WHERE ranking BETWEEN 10 AND 15\n",
            "Questions 6:  What are the names of the heads who are born outside the California state?\n",
            "SQL query 6:  SELECT name FROM head WHERE born_state != 'California'\n",
            "Questions 7:  What are the distinct creation years of the departments managed by a secretary born in state 'Alabama'?\n",
            "SQL query 7:  SELECT DISTINCT T1.creation FROM department AS T1 JOIN management AS T2 ON T1.department_id  =  T2.department_id JOIN head AS T3 ON T2.head_id  =  T3.head_id WHERE T3.born_state  =  'Alabama'\n",
            "Questions 8:  What are the names of the states where at least 3 heads were born?\n",
            "SQL query 8:  SELECT born_state FROM head GROUP BY born_state HAVING count(*)  >=  3\n",
            "Questions 9:  In which year were most departments established?\n",
            "SQL query 9:  SELECT creation FROM department GROUP BY creation ORDER BY count(*) DESC LIMIT 1\n",
            "Questions 10:  Show the name and number of employees for the departments managed by heads whose temporary acting value is 'Yes'?\n",
            "SQL query 10:  SELECT T1.name ,  T1.num_employees FROM department AS T1 JOIN management AS T2 ON T1.department_id  =  T2.department_id WHERE T2.temporary_acting  =  'Yes'\n"
          ]
        }
      ]
    }
  ]
}