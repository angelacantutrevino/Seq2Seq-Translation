{
  "nbformat": 4,
  "nbformat_minor": 0,
  "metadata": {
    "colab": {
      "name": "Seq2Seq_Translation.ipynb",
      "provenance": [],
      "collapsed_sections": []
    },
    "kernelspec": {
      "name": "python3",
      "display_name": "Python 3"
    },
    "language_info": {
      "name": "python"
    }
  },
  "cells": [
    {
      "cell_type": "markdown",
      "source": [
        "# **Transforming Natural Language into SQL Queries**"
      ],
      "metadata": {
        "id": "s7Lgvc4FKTpg"
      }
    },
    {
      "cell_type": "markdown",
      "source": [
        "We begin by importing pandas which is the library we need to read and analyse our data. With this, we continue by importing the file we'll be working with \"train_spider.json\"."
      ],
      "metadata": {
        "id": "O1HjEfO8fnJt"
      }
    },
    {
      "cell_type": "code",
      "source": [
        "import pandas as pd\n",
        "\n",
        "df = pd.read_json('train_spider.json')"
      ],
      "metadata": {
        "id": "d1hF4UJ8KKBj"
      },
      "execution_count": 1,
      "outputs": []
    },
    {
      "cell_type": "markdown",
      "source": [
        "Furthermore, we print the features the file contains and we make sure they are all the same type if not we´d need to convert them. Yet, we observe below with the command \"df.types\" that we are dwaling with nothing but objects so we leave that alone. In the features we can observe, the content about the natural language question under the field “question”, about its tokens under “question-toks”, and the database id to which it is addressed under “db-id”. Additionally, the columns “query” and “query-toks” contain information about each SQL query per question and its token correspondingly."
      ],
      "metadata": {
        "id": "QaXkDyqkgEU4"
      }
    },
    {
      "cell_type": "code",
      "source": [
        "df.head()"
      ],
      "metadata": {
        "colab": {
          "base_uri": "https://localhost:8080/",
          "height": 652
        },
        "id": "yTGDT_nFLX19",
        "outputId": "1ed11dce-99c7-40d6-a2a6-7314c41921c6"
      },
      "execution_count": 2,
      "outputs": [
        {
          "output_type": "execute_result",
          "data": {
            "text/html": [
              "\n",
              "  <div id=\"df-bf9a1c75-3a47-4bfc-a450-8d624a567d06\">\n",
              "    <div class=\"colab-df-container\">\n",
              "      <div>\n",
              "<style scoped>\n",
              "    .dataframe tbody tr th:only-of-type {\n",
              "        vertical-align: middle;\n",
              "    }\n",
              "\n",
              "    .dataframe tbody tr th {\n",
              "        vertical-align: top;\n",
              "    }\n",
              "\n",
              "    .dataframe thead th {\n",
              "        text-align: right;\n",
              "    }\n",
              "</style>\n",
              "<table border=\"1\" class=\"dataframe\">\n",
              "  <thead>\n",
              "    <tr style=\"text-align: right;\">\n",
              "      <th></th>\n",
              "      <th>db_id</th>\n",
              "      <th>query</th>\n",
              "      <th>query_toks</th>\n",
              "      <th>query_toks_no_value</th>\n",
              "      <th>question</th>\n",
              "      <th>question_toks</th>\n",
              "      <th>sql</th>\n",
              "    </tr>\n",
              "  </thead>\n",
              "  <tbody>\n",
              "    <tr>\n",
              "      <th>0</th>\n",
              "      <td>department_management</td>\n",
              "      <td>SELECT count(*) FROM head WHERE age  &gt;  56</td>\n",
              "      <td>[SELECT, count, (, *, ), FROM, head, WHERE, ag...</td>\n",
              "      <td>[select, count, (, *, ), from, head, where, ag...</td>\n",
              "      <td>How many heads of the departments are older th...</td>\n",
              "      <td>[How, many, heads, of, the, departments, are, ...</td>\n",
              "      <td>{'from': {'table_units': [['table_unit', 1]], ...</td>\n",
              "    </tr>\n",
              "    <tr>\n",
              "      <th>1</th>\n",
              "      <td>department_management</td>\n",
              "      <td>SELECT name ,  born_state ,  age FROM head ORD...</td>\n",
              "      <td>[SELECT, name, ,, born_state, ,, age, FROM, he...</td>\n",
              "      <td>[select, name, ,, born_state, ,, age, from, he...</td>\n",
              "      <td>List the name, born state and age of the heads...</td>\n",
              "      <td>[List, the, name, ,, born, state, and, age, of...</td>\n",
              "      <td>{'from': {'table_units': [['table_unit', 1]], ...</td>\n",
              "    </tr>\n",
              "    <tr>\n",
              "      <th>2</th>\n",
              "      <td>department_management</td>\n",
              "      <td>SELECT creation ,  name ,  budget_in_billions ...</td>\n",
              "      <td>[SELECT, creation, ,, name, ,, budget_in_billi...</td>\n",
              "      <td>[select, creation, ,, name, ,, budget_in_billi...</td>\n",
              "      <td>List the creation year, name and budget of eac...</td>\n",
              "      <td>[List, the, creation, year, ,, name, and, budg...</td>\n",
              "      <td>{'from': {'table_units': [['table_unit', 0]], ...</td>\n",
              "    </tr>\n",
              "    <tr>\n",
              "      <th>3</th>\n",
              "      <td>department_management</td>\n",
              "      <td>SELECT max(budget_in_billions) ,  min(budget_i...</td>\n",
              "      <td>[SELECT, max, (, budget_in_billions, ), ,, min...</td>\n",
              "      <td>[select, max, (, budget_in_billions, ), ,, min...</td>\n",
              "      <td>What are the maximum and minimum budget of the...</td>\n",
              "      <td>[What, are, the, maximum, and, minimum, budget...</td>\n",
              "      <td>{'from': {'table_units': [['table_unit', 0]], ...</td>\n",
              "    </tr>\n",
              "    <tr>\n",
              "      <th>4</th>\n",
              "      <td>department_management</td>\n",
              "      <td>SELECT avg(num_employees) FROM department WHER...</td>\n",
              "      <td>[SELECT, avg, (, num_employees, ), FROM, depar...</td>\n",
              "      <td>[select, avg, (, num_employees, ), from, depar...</td>\n",
              "      <td>What is the average number of employees of the...</td>\n",
              "      <td>[What, is, the, average, number, of, employees...</td>\n",
              "      <td>{'from': {'table_units': [['table_unit', 0]], ...</td>\n",
              "    </tr>\n",
              "  </tbody>\n",
              "</table>\n",
              "</div>\n",
              "      <button class=\"colab-df-convert\" onclick=\"convertToInteractive('df-bf9a1c75-3a47-4bfc-a450-8d624a567d06')\"\n",
              "              title=\"Convert this dataframe to an interactive table.\"\n",
              "              style=\"display:none;\">\n",
              "        \n",
              "  <svg xmlns=\"http://www.w3.org/2000/svg\" height=\"24px\"viewBox=\"0 0 24 24\"\n",
              "       width=\"24px\">\n",
              "    <path d=\"M0 0h24v24H0V0z\" fill=\"none\"/>\n",
              "    <path d=\"M18.56 5.44l.94 2.06.94-2.06 2.06-.94-2.06-.94-.94-2.06-.94 2.06-2.06.94zm-11 1L8.5 8.5l.94-2.06 2.06-.94-2.06-.94L8.5 2.5l-.94 2.06-2.06.94zm10 10l.94 2.06.94-2.06 2.06-.94-2.06-.94-.94-2.06-.94 2.06-2.06.94z\"/><path d=\"M17.41 7.96l-1.37-1.37c-.4-.4-.92-.59-1.43-.59-.52 0-1.04.2-1.43.59L10.3 9.45l-7.72 7.72c-.78.78-.78 2.05 0 2.83L4 21.41c.39.39.9.59 1.41.59.51 0 1.02-.2 1.41-.59l7.78-7.78 2.81-2.81c.8-.78.8-2.07 0-2.86zM5.41 20L4 18.59l7.72-7.72 1.47 1.35L5.41 20z\"/>\n",
              "  </svg>\n",
              "      </button>\n",
              "      \n",
              "  <style>\n",
              "    .colab-df-container {\n",
              "      display:flex;\n",
              "      flex-wrap:wrap;\n",
              "      gap: 12px;\n",
              "    }\n",
              "\n",
              "    .colab-df-convert {\n",
              "      background-color: #E8F0FE;\n",
              "      border: none;\n",
              "      border-radius: 50%;\n",
              "      cursor: pointer;\n",
              "      display: none;\n",
              "      fill: #1967D2;\n",
              "      height: 32px;\n",
              "      padding: 0 0 0 0;\n",
              "      width: 32px;\n",
              "    }\n",
              "\n",
              "    .colab-df-convert:hover {\n",
              "      background-color: #E2EBFA;\n",
              "      box-shadow: 0px 1px 2px rgba(60, 64, 67, 0.3), 0px 1px 3px 1px rgba(60, 64, 67, 0.15);\n",
              "      fill: #174EA6;\n",
              "    }\n",
              "\n",
              "    [theme=dark] .colab-df-convert {\n",
              "      background-color: #3B4455;\n",
              "      fill: #D2E3FC;\n",
              "    }\n",
              "\n",
              "    [theme=dark] .colab-df-convert:hover {\n",
              "      background-color: #434B5C;\n",
              "      box-shadow: 0px 1px 3px 1px rgba(0, 0, 0, 0.15);\n",
              "      filter: drop-shadow(0px 1px 2px rgba(0, 0, 0, 0.3));\n",
              "      fill: #FFFFFF;\n",
              "    }\n",
              "  </style>\n",
              "\n",
              "      <script>\n",
              "        const buttonEl =\n",
              "          document.querySelector('#df-bf9a1c75-3a47-4bfc-a450-8d624a567d06 button.colab-df-convert');\n",
              "        buttonEl.style.display =\n",
              "          google.colab.kernel.accessAllowed ? 'block' : 'none';\n",
              "\n",
              "        async function convertToInteractive(key) {\n",
              "          const element = document.querySelector('#df-bf9a1c75-3a47-4bfc-a450-8d624a567d06');\n",
              "          const dataTable =\n",
              "            await google.colab.kernel.invokeFunction('convertToInteractive',\n",
              "                                                     [key], {});\n",
              "          if (!dataTable) return;\n",
              "\n",
              "          const docLinkHtml = 'Like what you see? Visit the ' +\n",
              "            '<a target=\"_blank\" href=https://colab.research.google.com/notebooks/data_table.ipynb>data table notebook</a>'\n",
              "            + ' to learn more about interactive tables.';\n",
              "          element.innerHTML = '';\n",
              "          dataTable['output_type'] = 'display_data';\n",
              "          await google.colab.output.renderOutput(dataTable, element);\n",
              "          const docLink = document.createElement('div');\n",
              "          docLink.innerHTML = docLinkHtml;\n",
              "          element.appendChild(docLink);\n",
              "        }\n",
              "      </script>\n",
              "    </div>\n",
              "  </div>\n",
              "  "
            ],
            "text/plain": [
              "                   db_id  ...                                                sql\n",
              "0  department_management  ...  {'from': {'table_units': [['table_unit', 1]], ...\n",
              "1  department_management  ...  {'from': {'table_units': [['table_unit', 1]], ...\n",
              "2  department_management  ...  {'from': {'table_units': [['table_unit', 0]], ...\n",
              "3  department_management  ...  {'from': {'table_units': [['table_unit', 0]], ...\n",
              "4  department_management  ...  {'from': {'table_units': [['table_unit', 0]], ...\n",
              "\n",
              "[5 rows x 7 columns]"
            ]
          },
          "metadata": {},
          "execution_count": 2
        }
      ]
    },
    {
      "cell_type": "code",
      "source": [
        "df.dtypes"
      ],
      "metadata": {
        "colab": {
          "base_uri": "https://localhost:8080/"
        },
        "id": "y8IOkPIFYOmO",
        "outputId": "692642da-9585-4789-8c0c-44791d02322a"
      },
      "execution_count": 3,
      "outputs": [
        {
          "output_type": "execute_result",
          "data": {
            "text/plain": [
              "db_id                  object\n",
              "query                  object\n",
              "query_toks             object\n",
              "query_toks_no_value    object\n",
              "question               object\n",
              "question_toks          object\n",
              "sql                    object\n",
              "dtype: object"
            ]
          },
          "metadata": {},
          "execution_count": 3
        }
      ]
    },
    {
      "cell_type": "markdown",
      "source": [
        "Since, we have a very large database we choose to examine only the first 1000 instances for a simpler and more efficient analysis."
      ],
      "metadata": {
        "id": "jzVSCFtbgrHa"
      }
    },
    {
      "cell_type": "code",
      "source": [
        "df.iloc[:100,:]"
      ],
      "metadata": {
        "colab": {
          "base_uri": "https://localhost:8080/",
          "height": 1000
        },
        "id": "n5RLMvn7YoNH",
        "outputId": "e51300e7-1359-49d4-ccbf-128ffffd6d52"
      },
      "execution_count": 6,
      "outputs": [
        {
          "output_type": "execute_result",
          "data": {
            "text/html": [
              "\n",
              "  <div id=\"df-c2ca9e5a-d4f0-49bb-98d0-0aa17a33730b\">\n",
              "    <div class=\"colab-df-container\">\n",
              "      <div>\n",
              "<style scoped>\n",
              "    .dataframe tbody tr th:only-of-type {\n",
              "        vertical-align: middle;\n",
              "    }\n",
              "\n",
              "    .dataframe tbody tr th {\n",
              "        vertical-align: top;\n",
              "    }\n",
              "\n",
              "    .dataframe thead th {\n",
              "        text-align: right;\n",
              "    }\n",
              "</style>\n",
              "<table border=\"1\" class=\"dataframe\">\n",
              "  <thead>\n",
              "    <tr style=\"text-align: right;\">\n",
              "      <th></th>\n",
              "      <th>db_id</th>\n",
              "      <th>query</th>\n",
              "      <th>query_toks</th>\n",
              "      <th>query_toks_no_value</th>\n",
              "      <th>question</th>\n",
              "      <th>question_toks</th>\n",
              "      <th>sql</th>\n",
              "    </tr>\n",
              "  </thead>\n",
              "  <tbody>\n",
              "    <tr>\n",
              "      <th>0</th>\n",
              "      <td>department_management</td>\n",
              "      <td>SELECT count(*) FROM head WHERE age  &gt;  56</td>\n",
              "      <td>[SELECT, count, (, *, ), FROM, head, WHERE, ag...</td>\n",
              "      <td>[select, count, (, *, ), from, head, where, ag...</td>\n",
              "      <td>How many heads of the departments are older th...</td>\n",
              "      <td>[How, many, heads, of, the, departments, are, ...</td>\n",
              "      <td>{'from': {'table_units': [['table_unit', 1]], ...</td>\n",
              "    </tr>\n",
              "    <tr>\n",
              "      <th>1</th>\n",
              "      <td>department_management</td>\n",
              "      <td>SELECT name ,  born_state ,  age FROM head ORD...</td>\n",
              "      <td>[SELECT, name, ,, born_state, ,, age, FROM, he...</td>\n",
              "      <td>[select, name, ,, born_state, ,, age, from, he...</td>\n",
              "      <td>List the name, born state and age of the heads...</td>\n",
              "      <td>[List, the, name, ,, born, state, and, age, of...</td>\n",
              "      <td>{'from': {'table_units': [['table_unit', 1]], ...</td>\n",
              "    </tr>\n",
              "    <tr>\n",
              "      <th>2</th>\n",
              "      <td>department_management</td>\n",
              "      <td>SELECT creation ,  name ,  budget_in_billions ...</td>\n",
              "      <td>[SELECT, creation, ,, name, ,, budget_in_billi...</td>\n",
              "      <td>[select, creation, ,, name, ,, budget_in_billi...</td>\n",
              "      <td>List the creation year, name and budget of eac...</td>\n",
              "      <td>[List, the, creation, year, ,, name, and, budg...</td>\n",
              "      <td>{'from': {'table_units': [['table_unit', 0]], ...</td>\n",
              "    </tr>\n",
              "    <tr>\n",
              "      <th>3</th>\n",
              "      <td>department_management</td>\n",
              "      <td>SELECT max(budget_in_billions) ,  min(budget_i...</td>\n",
              "      <td>[SELECT, max, (, budget_in_billions, ), ,, min...</td>\n",
              "      <td>[select, max, (, budget_in_billions, ), ,, min...</td>\n",
              "      <td>What are the maximum and minimum budget of the...</td>\n",
              "      <td>[What, are, the, maximum, and, minimum, budget...</td>\n",
              "      <td>{'from': {'table_units': [['table_unit', 0]], ...</td>\n",
              "    </tr>\n",
              "    <tr>\n",
              "      <th>4</th>\n",
              "      <td>department_management</td>\n",
              "      <td>SELECT avg(num_employees) FROM department WHER...</td>\n",
              "      <td>[SELECT, avg, (, num_employees, ), FROM, depar...</td>\n",
              "      <td>[select, avg, (, num_employees, ), from, depar...</td>\n",
              "      <td>What is the average number of employees of the...</td>\n",
              "      <td>[What, is, the, average, number, of, employees...</td>\n",
              "      <td>{'from': {'table_units': [['table_unit', 0]], ...</td>\n",
              "    </tr>\n",
              "    <tr>\n",
              "      <th>...</th>\n",
              "      <td>...</td>\n",
              "      <td>...</td>\n",
              "      <td>...</td>\n",
              "      <td>...</td>\n",
              "      <td>...</td>\n",
              "      <td>...</td>\n",
              "      <td>...</td>\n",
              "    </tr>\n",
              "    <tr>\n",
              "      <th>95</th>\n",
              "      <td>student_assessment</td>\n",
              "      <td>SELECT course_name FROM courses ORDER BY cours...</td>\n",
              "      <td>[SELECT, course_name, FROM, courses, ORDER, BY...</td>\n",
              "      <td>[select, course_name, from, courses, order, by...</td>\n",
              "      <td>List the names of courses in alphabetical order?</td>\n",
              "      <td>[List, the, names, of, courses, in, alphabetic...</td>\n",
              "      <td>{'from': {'table_units': [['table_unit', 3]], ...</td>\n",
              "    </tr>\n",
              "    <tr>\n",
              "      <th>96</th>\n",
              "      <td>student_assessment</td>\n",
              "      <td>SELECT course_name FROM courses ORDER BY cours...</td>\n",
              "      <td>[SELECT, course_name, FROM, courses, ORDER, BY...</td>\n",
              "      <td>[select, course_name, from, courses, order, by...</td>\n",
              "      <td>What are the names of the courses in alphabeti...</td>\n",
              "      <td>[What, are, the, names, of, the, courses, in, ...</td>\n",
              "      <td>{'from': {'table_units': [['table_unit', 3]], ...</td>\n",
              "    </tr>\n",
              "    <tr>\n",
              "      <th>97</th>\n",
              "      <td>student_assessment</td>\n",
              "      <td>SELECT first_name FROM people ORDER BY first_name</td>\n",
              "      <td>[SELECT, first_name, FROM, people, ORDER, BY, ...</td>\n",
              "      <td>[select, first_name, from, people, order, by, ...</td>\n",
              "      <td>List the first names of people in alphabetical...</td>\n",
              "      <td>[List, the, first, names, of, people, in, alph...</td>\n",
              "      <td>{'from': {'table_units': [['table_unit', 1]], ...</td>\n",
              "    </tr>\n",
              "    <tr>\n",
              "      <th>98</th>\n",
              "      <td>student_assessment</td>\n",
              "      <td>SELECT first_name FROM people ORDER BY first_name</td>\n",
              "      <td>[SELECT, first_name, FROM, people, ORDER, BY, ...</td>\n",
              "      <td>[select, first_name, from, people, order, by, ...</td>\n",
              "      <td>What are the first names of the people in alph...</td>\n",
              "      <td>[What, are, the, first, names, of, the, people...</td>\n",
              "      <td>{'from': {'table_units': [['table_unit', 1]], ...</td>\n",
              "    </tr>\n",
              "    <tr>\n",
              "      <th>99</th>\n",
              "      <td>student_assessment</td>\n",
              "      <td>SELECT student_id FROM student_course_registra...</td>\n",
              "      <td>[SELECT, student_id, FROM, student_course_regi...</td>\n",
              "      <td>[select, student_id, from, student_course_regi...</td>\n",
              "      <td>What are the id of students who registered cou...</td>\n",
              "      <td>[What, are, the, id, of, students, who, regist...</td>\n",
              "      <td>{'from': {'table_units': [['table_unit', 5]], ...</td>\n",
              "    </tr>\n",
              "  </tbody>\n",
              "</table>\n",
              "<p>100 rows × 7 columns</p>\n",
              "</div>\n",
              "      <button class=\"colab-df-convert\" onclick=\"convertToInteractive('df-c2ca9e5a-d4f0-49bb-98d0-0aa17a33730b')\"\n",
              "              title=\"Convert this dataframe to an interactive table.\"\n",
              "              style=\"display:none;\">\n",
              "        \n",
              "  <svg xmlns=\"http://www.w3.org/2000/svg\" height=\"24px\"viewBox=\"0 0 24 24\"\n",
              "       width=\"24px\">\n",
              "    <path d=\"M0 0h24v24H0V0z\" fill=\"none\"/>\n",
              "    <path d=\"M18.56 5.44l.94 2.06.94-2.06 2.06-.94-2.06-.94-.94-2.06-.94 2.06-2.06.94zm-11 1L8.5 8.5l.94-2.06 2.06-.94-2.06-.94L8.5 2.5l-.94 2.06-2.06.94zm10 10l.94 2.06.94-2.06 2.06-.94-2.06-.94-.94-2.06-.94 2.06-2.06.94z\"/><path d=\"M17.41 7.96l-1.37-1.37c-.4-.4-.92-.59-1.43-.59-.52 0-1.04.2-1.43.59L10.3 9.45l-7.72 7.72c-.78.78-.78 2.05 0 2.83L4 21.41c.39.39.9.59 1.41.59.51 0 1.02-.2 1.41-.59l7.78-7.78 2.81-2.81c.8-.78.8-2.07 0-2.86zM5.41 20L4 18.59l7.72-7.72 1.47 1.35L5.41 20z\"/>\n",
              "  </svg>\n",
              "      </button>\n",
              "      \n",
              "  <style>\n",
              "    .colab-df-container {\n",
              "      display:flex;\n",
              "      flex-wrap:wrap;\n",
              "      gap: 12px;\n",
              "    }\n",
              "\n",
              "    .colab-df-convert {\n",
              "      background-color: #E8F0FE;\n",
              "      border: none;\n",
              "      border-radius: 50%;\n",
              "      cursor: pointer;\n",
              "      display: none;\n",
              "      fill: #1967D2;\n",
              "      height: 32px;\n",
              "      padding: 0 0 0 0;\n",
              "      width: 32px;\n",
              "    }\n",
              "\n",
              "    .colab-df-convert:hover {\n",
              "      background-color: #E2EBFA;\n",
              "      box-shadow: 0px 1px 2px rgba(60, 64, 67, 0.3), 0px 1px 3px 1px rgba(60, 64, 67, 0.15);\n",
              "      fill: #174EA6;\n",
              "    }\n",
              "\n",
              "    [theme=dark] .colab-df-convert {\n",
              "      background-color: #3B4455;\n",
              "      fill: #D2E3FC;\n",
              "    }\n",
              "\n",
              "    [theme=dark] .colab-df-convert:hover {\n",
              "      background-color: #434B5C;\n",
              "      box-shadow: 0px 1px 3px 1px rgba(0, 0, 0, 0.15);\n",
              "      filter: drop-shadow(0px 1px 2px rgba(0, 0, 0, 0.3));\n",
              "      fill: #FFFFFF;\n",
              "    }\n",
              "  </style>\n",
              "\n",
              "      <script>\n",
              "        const buttonEl =\n",
              "          document.querySelector('#df-c2ca9e5a-d4f0-49bb-98d0-0aa17a33730b button.colab-df-convert');\n",
              "        buttonEl.style.display =\n",
              "          google.colab.kernel.accessAllowed ? 'block' : 'none';\n",
              "\n",
              "        async function convertToInteractive(key) {\n",
              "          const element = document.querySelector('#df-c2ca9e5a-d4f0-49bb-98d0-0aa17a33730b');\n",
              "          const dataTable =\n",
              "            await google.colab.kernel.invokeFunction('convertToInteractive',\n",
              "                                                     [key], {});\n",
              "          if (!dataTable) return;\n",
              "\n",
              "          const docLinkHtml = 'Like what you see? Visit the ' +\n",
              "            '<a target=\"_blank\" href=https://colab.research.google.com/notebooks/data_table.ipynb>data table notebook</a>'\n",
              "            + ' to learn more about interactive tables.';\n",
              "          element.innerHTML = '';\n",
              "          dataTable['output_type'] = 'display_data';\n",
              "          await google.colab.output.renderOutput(dataTable, element);\n",
              "          const docLink = document.createElement('div');\n",
              "          docLink.innerHTML = docLinkHtml;\n",
              "          element.appendChild(docLink);\n",
              "        }\n",
              "      </script>\n",
              "    </div>\n",
              "  </div>\n",
              "  "
            ],
            "text/plain": [
              "                    db_id  ...                                                sql\n",
              "0   department_management  ...  {'from': {'table_units': [['table_unit', 1]], ...\n",
              "1   department_management  ...  {'from': {'table_units': [['table_unit', 1]], ...\n",
              "2   department_management  ...  {'from': {'table_units': [['table_unit', 0]], ...\n",
              "3   department_management  ...  {'from': {'table_units': [['table_unit', 0]], ...\n",
              "4   department_management  ...  {'from': {'table_units': [['table_unit', 0]], ...\n",
              "..                    ...  ...                                                ...\n",
              "95     student_assessment  ...  {'from': {'table_units': [['table_unit', 3]], ...\n",
              "96     student_assessment  ...  {'from': {'table_units': [['table_unit', 3]], ...\n",
              "97     student_assessment  ...  {'from': {'table_units': [['table_unit', 1]], ...\n",
              "98     student_assessment  ...  {'from': {'table_units': [['table_unit', 1]], ...\n",
              "99     student_assessment  ...  {'from': {'table_units': [['table_unit', 5]], ...\n",
              "\n",
              "[100 rows x 7 columns]"
            ]
          },
          "metadata": {},
          "execution_count": 6
        }
      ]
    },
    {
      "cell_type": "markdown",
      "source": [
        "A way we can propose to manage the data later on is by n-grams which is why below we illustrate the frequency of each question per id as seen on Figure 1. Keeping this in mind, we can later implement this idea onto the recurrent neural network (RNN) encoder-decoder model we´ll develop. Furthermore, it is also useful to select the 1000 instances we need.  "
      ],
      "metadata": {
        "id": "u-mc99XYgzCG"
      }
    },
    {
      "cell_type": "code",
      "source": [
        "df.groupby(['db_id']).count().plot(fontsize = 12, color ='lightblue', figsize = (16,6))"
      ],
      "metadata": {
        "colab": {
          "base_uri": "https://localhost:8080/",
          "height": 403
        },
        "id": "QTaBKo5b_gDV",
        "outputId": "0059edb8-78aa-4996-d906-c88d9845fa38"
      },
      "execution_count": 30,
      "outputs": [
        {
          "output_type": "execute_result",
          "data": {
            "text/plain": [
              "<matplotlib.axes._subplots.AxesSubplot at 0x7f27f809e0d0>"
            ]
          },
          "metadata": {},
          "execution_count": 30
        },
        {
          "output_type": "display_data",
          "data": {
            "image/png": "[encoded data removed]",
            "text/plain": [
              "<Figure size 1152x432 with 1 Axes>"
            ]
          },
          "metadata": {
            "needs_background": "light"
          }
        }
      ]
    }
  ]
}